{
  "nbformat": 4,
  "nbformat_minor": 0,
  "metadata": {
    "colab": {
      "provenance": [],
      "authorship_tag": "ABX9TyPJD+Qgfat/QNghuzOm9eBN",
      "include_colab_link": true
    },
    "kernelspec": {
      "name": "python3",
      "display_name": "Python 3"
    },
    "language_info": {
      "name": "python"
    }
  },
  "cells": [
    {
      "cell_type": "markdown",
      "metadata": {
        "id": "view-in-github",
        "colab_type": "text"
      },
      "source": [
        "<a href=\"https://colab.research.google.com/github/DandaraSB/IC-GRACE-RIMAS/blob/main/RIMAS_ND_PND.ipynb\" target=\"_parent\"><img src=\"https://colab.research.google.com/assets/colab-badge.svg\" alt=\"Open In Colab\"/></a>"
      ]
    },
    {
      "cell_type": "code",
      "source": [
        "# Acessar dados do drive\n",
        "from google.colab import drive\n",
        "drive.mount('/content/drive',force_remount=True)\n",
        "\n",
        "from ast import parse\n",
        "import pandas as pd\n",
        "import datetime\n",
        "import shutil\n",
        "from pathlib import Path"
      ],
      "metadata": {
        "colab": {
          "base_uri": "https://localhost:8080/"
        },
        "id": "KzOMv5T0R1gV",
        "outputId": "084fd5ce-0b9f-40e0-f797-11d263fc0f4f"
      },
      "execution_count": 1,
      "outputs": [
        {
          "output_type": "stream",
          "name": "stdout",
          "text": [
            "Mounted at /content/drive\n"
          ]
        }
      ]
    },
    {
      "cell_type": "code",
      "source": [
        "# determinar o poço a ser analizado\n",
        "AQ = \"AQBauru\"\n",
        "Form = \"FormBauru\"\n",
        "id_rimas = 3500029468\n",
        "\n",
        "# recebe o arquivo com os dados do RIMAS bruto para o poço identificado em id_rimas\n",
        "arquivo ='/content/drive/My Drive/IC/BaseDados/RIMAS/'+ AQ +'/'+ Form + '/' + str(id_rimas) + '/' + str(id_rimas) +'ND.csv'"
      ],
      "metadata": {
        "id": "vYX4eVrLR5bs"
      },
      "execution_count": 2,
      "outputs": []
    },
    {
      "cell_type": "code",
      "execution_count": 13,
      "metadata": {
        "colab": {
          "base_uri": "https://localhost:8080/",
          "height": 35
        },
        "id": "FPPSV4b-Qe81",
        "outputId": "81003f62-f990-4550-fe91-e8830ae049dc"
      },
      "outputs": [
        {
          "output_type": "execute_result",
          "data": {
            "text/plain": [
              "'/content/drive/My Drive/IC/BaseDados/RIMAS/AQBauru/FormBauru/3500029468/3500029468PND.csv'"
            ],
            "application/vnd.google.colaboratory.intrinsic+json": {
              "type": "string"
            }
          },
          "metadata": {},
          "execution_count": 13
        }
      ],
      "source": [
        "dados = pd.read_csv(\n",
        "    arquivo,\n",
        "    encoding='latin-1',\n",
        "    delimiter=';',\n",
        "    skiprows=3,\n",
        "    usecols=[1, 3],\n",
        "    decimal=\",\",\n",
        ")\n",
        "dados.dropna(axis=0, inplace=True)\n",
        "dados[\"date\"] = pd.to_datetime(dados[\"Data da medição\"], format=\"%d/%m/%Y\") #adiciona a coluna date no formato datetime\n",
        "dados[\"tempo_s\"] = (dados.date - pd.to_datetime(\"2000-01-01\")).dt.total_seconds() #adiciona a coluna tempo_s em segundos tendo o dia referencia 01/01/2000\n",
        "dados.rename(columns={'Nível da água': 'niveldagua_m', 'Data da medição' : 'data_da_medicao'}, inplace=True) #renomeando as colunas\n",
        "\n",
        "datetime.datetime.today().isoformat()\n",
        "title = arquivo.split(\"/\")[-2]\n",
        "\n",
        "with open(title + \"PND.csv\", \"w\") as f:\n",
        "  f.write(f\"# Processado em: {datetime.datetime.today().isoformat()}\\n\") #adicionando a data em que o dado foi reprocessado\n",
        "  dados.to_csv(f)\n",
        "\n",
        "pd.read_csv(title + \"PND.csv\")\n",
        "\n",
        "caminho = Path('/content/drive/My Drive/IC/BaseDados/RIMAS/'+ AQ +'/'+ Form + '/' + title)\n",
        "shutil.move(title + \"PND.csv\", caminho) #adiciona na pasta do poço identificada em caminho o arquivo PND.csv reorganizado"
      ]
    }
  ]
}